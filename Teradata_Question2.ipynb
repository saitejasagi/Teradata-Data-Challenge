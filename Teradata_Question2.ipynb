{
 "cells": [
  {
   "cell_type": "code",
   "execution_count": 2,
   "metadata": {},
   "outputs": [
    {
     "name": "stdout",
     "output_type": "stream",
     "text": [
      "Column headings:\n",
      "Index(['id', 'user_id', 'project_id', 'qualifications', 'created_at',\n",
      "       'updated_at', 'state', 'time_slots', 'scheduled_for',\n",
      "       'decision_deadline', 'conference_line_id', 'hours', 'pbc_rating',\n",
      "       'npo_rating', 'satisfaction_rating', 'pbc_review', 'archived'],\n",
      "      dtype='object')\n"
     ]
    }
   ],
   "source": [
    "#import the libraries\n",
    "import pandas as pd\n",
    "from pandas import ExcelWriter\n",
    "from pandas import ExcelFile\n",
    "import matplotlib.pyplot as plt\n",
    "\n",
    "#read the data\n",
    "d1 = pd.read_excel(\"C:\\\\Users\\\\project_inquiries.xlsx\",  sheet_name='project_inquiries')\n",
    "print(\"Column headings:\")\n",
    "print(d1.columns)"
   ]
  },
  {
   "cell_type": "code",
   "execution_count": 3,
   "metadata": {},
   "outputs": [],
   "source": [
    "#select only the finished, accepted or confirmed projects\n",
    "data = d1.query('state == \"completed\" or state == \"accepted\" or state == \"confirmed\"')\n",
    "\n",
    "#create a new dataset that has count of number of meetings for each project id\n",
    "new = data.groupby(\"project_id\")['id'].count().reset_index()\n",
    "\n",
    "#select only the projects that has atleast 2 meetings\n",
    "new=new[new.id>=2]\n",
    "\n",
    "#rename the id column\n",
    "new.rename(columns={'id':'Vol_count'},inplace=True)"
   ]
  },
  {
   "cell_type": "code",
   "execution_count": 23,
   "metadata": {},
   "outputs": [
    {
     "data": {
      "text/plain": [
       "Index(['id', 'organization_id', 'description', 'created_at', 'updated_at',\n",
       "       'state', 'user_id', 'needs_accomplish', 'needs_support', 'needs_value',\n",
       "       'campaign_id', 'image_id', 'project_inquiries_count', 'admin_id',\n",
       "       'project_group', 'project_category_id', 'local_only', 'success_story',\n",
       "       'partner_organization_id', 'match_job_id', 'satisfaction_rating',\n",
       "       'agreed_at_community', 'timeline', 'publish_externally',\n",
       "       'enable_success_story', 'is_archived', 'share_metadata'],\n",
       "      dtype='object')"
      ]
     },
     "execution_count": 23,
     "metadata": {},
     "output_type": "execute_result"
    }
   ],
   "source": [
    "#read the proejct export data\n",
    "d2 = pd.read_excel(\"C:\\\\Users\\\\project_export.xlsx\",  sheet_name='project_export')\n",
    "\n",
    "d2.columns"
   ]
  },
  {
   "cell_type": "code",
   "execution_count": 37,
   "metadata": {},
   "outputs": [
    {
     "data": {
      "text/html": [
       "<div>\n",
       "<style scoped>\n",
       "    .dataframe tbody tr th:only-of-type {\n",
       "        vertical-align: middle;\n",
       "    }\n",
       "\n",
       "    .dataframe tbody tr th {\n",
       "        vertical-align: top;\n",
       "    }\n",
       "\n",
       "    .dataframe thead th {\n",
       "        text-align: right;\n",
       "    }\n",
       "</style>\n",
       "<table border=\"1\" class=\"dataframe\">\n",
       "  <thead>\n",
       "    <tr style=\"text-align: right;\">\n",
       "      <th></th>\n",
       "      <th>project_id</th>\n",
       "      <th>Vol_count</th>\n",
       "      <th>id</th>\n",
       "      <th>state</th>\n",
       "      <th>created_at</th>\n",
       "      <th>updated_at</th>\n",
       "      <th>Difference</th>\n",
       "    </tr>\n",
       "  </thead>\n",
       "  <tbody>\n",
       "    <tr>\n",
       "      <th>0</th>\n",
       "      <td>840</td>\n",
       "      <td>2</td>\n",
       "      <td>840</td>\n",
       "      <td>completed</td>\n",
       "      <td>2015-06-13 18:02:13.378</td>\n",
       "      <td>2015-08-05 14:13:20.901</td>\n",
       "      <td>52</td>\n",
       "    </tr>\n",
       "    <tr>\n",
       "      <th>1</th>\n",
       "      <td>862</td>\n",
       "      <td>2</td>\n",
       "      <td>862</td>\n",
       "      <td>completed</td>\n",
       "      <td>2015-06-18 21:48:00.373</td>\n",
       "      <td>2015-11-10 14:09:12.727</td>\n",
       "      <td>144</td>\n",
       "    </tr>\n",
       "    <tr>\n",
       "      <th>2</th>\n",
       "      <td>876</td>\n",
       "      <td>2</td>\n",
       "      <td>876</td>\n",
       "      <td>completed</td>\n",
       "      <td>2015-06-22 16:20:29.597</td>\n",
       "      <td>2016-05-18 20:27:28.343</td>\n",
       "      <td>331</td>\n",
       "    </tr>\n",
       "    <tr>\n",
       "      <th>3</th>\n",
       "      <td>954</td>\n",
       "      <td>2</td>\n",
       "      <td>954</td>\n",
       "      <td>completed</td>\n",
       "      <td>2015-07-09 16:14:07.679</td>\n",
       "      <td>2016-11-29 15:50:48.091</td>\n",
       "      <td>508</td>\n",
       "    </tr>\n",
       "    <tr>\n",
       "      <th>4</th>\n",
       "      <td>1190</td>\n",
       "      <td>2</td>\n",
       "      <td>1190</td>\n",
       "      <td>completed</td>\n",
       "      <td>2015-08-27 17:50:43.032</td>\n",
       "      <td>2016-03-21 20:31:46.671</td>\n",
       "      <td>207</td>\n",
       "    </tr>\n",
       "  </tbody>\n",
       "</table>\n",
       "</div>"
      ],
      "text/plain": [
       "   project_id  Vol_count    id      state              created_at  \\\n",
       "0         840          2   840  completed 2015-06-13 18:02:13.378   \n",
       "1         862          2   862  completed 2015-06-18 21:48:00.373   \n",
       "2         876          2   876  completed 2015-06-22 16:20:29.597   \n",
       "3         954          2   954  completed 2015-07-09 16:14:07.679   \n",
       "4        1190          2  1190  completed 2015-08-27 17:50:43.032   \n",
       "\n",
       "               updated_at  Difference  \n",
       "0 2015-08-05 14:13:20.901          52  \n",
       "1 2015-11-10 14:09:12.727         144  \n",
       "2 2016-05-18 20:27:28.343         331  \n",
       "3 2016-11-29 15:50:48.091         508  \n",
       "4 2016-03-21 20:31:46.671         207  "
      ]
     },
     "execution_count": 37,
     "metadata": {},
     "output_type": "execute_result"
    }
   ],
   "source": [
    "#read the relevant columns only\n",
    "d2 = d2.loc[:,['id','state','created_at', 'updated_at']]\n",
    "\n",
    "#merge the datasets on id variable\n",
    "new_data = pd.merge(new,d2,how='left',left_on = 'project_id',right_on = 'id')\n",
    "\n",
    "new_data.head()"
   ]
  },
  {
   "cell_type": "code",
   "execution_count": 43,
   "metadata": {},
   "outputs": [
    {
     "data": {
      "text/plain": [
       "<matplotlib.axes._subplots.AxesSubplot at 0x1c8f61d1c88>"
      ]
     },
     "execution_count": 43,
     "metadata": {},
     "output_type": "execute_result"
    },
    {
     "data": {
      "image/png": "[encoded data removed]",
      "text/plain": [
       "<Figure size 432x288 with 1 Axes>"
      ]
     },
     "metadata": {
      "needs_background": "light"
     },
     "output_type": "display_data"
    }
   ],
   "source": [
    "#calculate the difference between the created date and updated date in days and name the column 'difference'\n",
    "new_data['Difference'] = new_data['updated_at'].sub(new_data['created_at'], axis=0).dt.days\n",
    "\n",
    "#plot the histogram of difference column\n",
    "new_data['Difference'].hist()"
   ]
  }
 ],
 "metadata": {
  "kernelspec": {
   "display_name": "Python 3",
   "language": "python",
   "name": "python3"
  },
  "language_info": {
   "codemirror_mode": {
    "name": "ipython",
    "version": 3
   },
   "file_extension": ".py",
   "mimetype": "text/x-python",
   "name": "python",
   "nbconvert_exporter": "python",
   "pygments_lexer": "ipython3",
   "version": "3.7.3"
  }
 },
 "nbformat": 4,
 "nbformat_minor": 2
}
