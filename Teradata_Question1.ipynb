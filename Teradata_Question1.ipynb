{
 "cells": [
  {
   "cell_type": "code",
   "execution_count": 1,
   "metadata": {},
   "outputs": [
    {
     "name": "stdout",
     "output_type": "stream",
     "text": [
      "Column headings:\n",
      "Index(['id', 'organization_id', 'description', 'created_at', 'updated_at',\n",
      "       'state', 'user_id', 'needs_accomplish', 'needs_support', 'needs_value',\n",
      "       'campaign_id', 'image_id', 'project_inquiries_count', 'admin_id',\n",
      "       'project_group', 'project_category_id', 'local_only', 'success_story',\n",
      "       'partner_organization_id', 'match_job_id', 'satisfaction_rating',\n",
      "       'agreed_at_community', 'timeline', 'publish_externally',\n",
      "       'enable_success_story', 'is_archived', 'share_metadata'],\n",
      "      dtype='object')\n",
      "Index(['id', 'created_at', 'updated_at', 'group_slug', 'enabled',\n",
      "       'international', 'name', 'slug'],\n",
      "      dtype='object')\n"
     ]
    }
   ],
   "source": [
    "#import the libraries\n",
    "import pandas as pd\n",
    "from pandas import ExcelWriter\n",
    "from pandas import ExcelFile\n",
    "import matplotlib.pyplot as plt\n",
    "\n",
    "#read the datasets separately\n",
    "d1 = pd.read_excel(\"C:\\\\Users\\\\project_export.xlsx\",  sheet_name='project_export')\n",
    "d2 = pd.read_excel(\"C:\\\\Users\\\\project_categories.xlsx\",  sheet_name='project_categories')\n",
    "\n",
    "#print the columns\n",
    "print(\"Column headings:\")\n",
    "print(d1.columns)\n",
    "print(d2.columns)"
   ]
  },
  {
   "cell_type": "code",
   "execution_count": 5,
   "metadata": {},
   "outputs": [
    {
     "data": {
      "text/html": [
       "<div>\n",
       "<style scoped>\n",
       "    .dataframe tbody tr th:only-of-type {\n",
       "        vertical-align: middle;\n",
       "    }\n",
       "\n",
       "    .dataframe tbody tr th {\n",
       "        vertical-align: top;\n",
       "    }\n",
       "\n",
       "    .dataframe thead th {\n",
       "        text-align: right;\n",
       "    }\n",
       "</style>\n",
       "<table border=\"1\" class=\"dataframe\">\n",
       "  <thead>\n",
       "    <tr style=\"text-align: right;\">\n",
       "      <th></th>\n",
       "      <th>id_x</th>\n",
       "      <th>created_at</th>\n",
       "      <th>updated_at</th>\n",
       "      <th>state</th>\n",
       "      <th>project_inquiries_count</th>\n",
       "      <th>project_category_id</th>\n",
       "      <th>id_y</th>\n",
       "      <th>name</th>\n",
       "    </tr>\n",
       "  </thead>\n",
       "  <tbody>\n",
       "    <tr>\n",
       "      <th>0</th>\n",
       "      <td>5948</td>\n",
       "      <td>2017-07-06 17:27:44.906</td>\n",
       "      <td>2017-08-30 01:39:47.520</td>\n",
       "      <td>closed</td>\n",
       "      <td>3</td>\n",
       "      <td>19</td>\n",
       "      <td>19</td>\n",
       "      <td>Website design</td>\n",
       "    </tr>\n",
       "    <tr>\n",
       "      <th>1</th>\n",
       "      <td>5908</td>\n",
       "      <td>2017-06-28 16:55:47.853</td>\n",
       "      <td>2017-11-11 18:17:38.379</td>\n",
       "      <td>completed</td>\n",
       "      <td>3</td>\n",
       "      <td>14</td>\n",
       "      <td>14</td>\n",
       "      <td>Design</td>\n",
       "    </tr>\n",
       "    <tr>\n",
       "      <th>2</th>\n",
       "      <td>9339</td>\n",
       "      <td>2019-01-15 00:00:34.636</td>\n",
       "      <td>2019-01-15 00:00:34.636</td>\n",
       "      <td>draft</td>\n",
       "      <td>0</td>\n",
       "      <td>14</td>\n",
       "      <td>14</td>\n",
       "      <td>Design</td>\n",
       "    </tr>\n",
       "    <tr>\n",
       "      <th>3</th>\n",
       "      <td>5975</td>\n",
       "      <td>2017-07-10 15:36:19.184</td>\n",
       "      <td>2017-09-27 13:39:17.767</td>\n",
       "      <td>closed</td>\n",
       "      <td>0</td>\n",
       "      <td>2</td>\n",
       "      <td>2</td>\n",
       "      <td>Business Planning</td>\n",
       "    </tr>\n",
       "    <tr>\n",
       "      <th>4</th>\n",
       "      <td>9981</td>\n",
       "      <td>2019-04-03 03:19:57.849</td>\n",
       "      <td>2019-04-03 03:19:57.849</td>\n",
       "      <td>draft</td>\n",
       "      <td>0</td>\n",
       "      <td>1</td>\n",
       "      <td>1</td>\n",
       "      <td>Accounting &amp; Finance</td>\n",
       "    </tr>\n",
       "  </tbody>\n",
       "</table>\n",
       "</div>"
      ],
      "text/plain": [
       "   id_x              created_at              updated_at      state  \\\n",
       "0  5948 2017-07-06 17:27:44.906 2017-08-30 01:39:47.520     closed   \n",
       "1  5908 2017-06-28 16:55:47.853 2017-11-11 18:17:38.379  completed   \n",
       "2  9339 2019-01-15 00:00:34.636 2019-01-15 00:00:34.636      draft   \n",
       "3  5975 2017-07-10 15:36:19.184 2017-09-27 13:39:17.767     closed   \n",
       "4  9981 2019-04-03 03:19:57.849 2019-04-03 03:19:57.849      draft   \n",
       "\n",
       "   project_inquiries_count  project_category_id  id_y                  name  \n",
       "0                        3                   19    19        Website design  \n",
       "1                        3                   14    14                Design  \n",
       "2                        0                   14    14                Design  \n",
       "3                        0                    2     2     Business Planning  \n",
       "4                        0                    1     1  Accounting & Finance  "
      ]
     },
     "execution_count": 5,
     "metadata": {},
     "output_type": "execute_result"
    }
   ],
   "source": [
    "#select the relevant columns in the data\n",
    "d1 = d1.iloc[:, [0,3,4,5,12,15]]\n",
    "d2 = d2.iloc[:, [0,6]]\n",
    "\n",
    "#merge the datasets on preject category id\n",
    "data = pd.merge(d1, d2, how = 'left', left_on = \"project_category_id\", right_on = \"id\")\n",
    "data.head()"
   ]
  },
  {
   "cell_type": "code",
   "execution_count": 6,
   "metadata": {},
   "outputs": [],
   "source": [
    "#select the relevant columns in the data and rename the columns to remove ambiguity\n",
    "data = data.iloc[:, [0,1,2,3,4,7]]\n",
    "data.rename(columns={'id_x': 'ProjectId'}, inplace = True)"
   ]
  },
  {
   "cell_type": "code",
   "execution_count": 7,
   "metadata": {},
   "outputs": [],
   "source": [
    "#select the completed projects only\n",
    "data = data.query('state == \"completed\"')"
   ]
  },
  {
   "cell_type": "code",
   "execution_count": 9,
   "metadata": {},
   "outputs": [
    {
     "data": {
      "text/html": [
       "<div>\n",
       "<style scoped>\n",
       "    .dataframe tbody tr th:only-of-type {\n",
       "        vertical-align: middle;\n",
       "    }\n",
       "\n",
       "    .dataframe tbody tr th {\n",
       "        vertical-align: top;\n",
       "    }\n",
       "\n",
       "    .dataframe thead th {\n",
       "        text-align: right;\n",
       "    }\n",
       "</style>\n",
       "<table border=\"1\" class=\"dataframe\">\n",
       "  <thead>\n",
       "    <tr style=\"text-align: right;\">\n",
       "      <th></th>\n",
       "      <th>ProjectId</th>\n",
       "      <th>created_at</th>\n",
       "      <th>updated_at</th>\n",
       "      <th>state</th>\n",
       "      <th>project_inquiries_count</th>\n",
       "      <th>name</th>\n",
       "      <th>Difference</th>\n",
       "    </tr>\n",
       "  </thead>\n",
       "  <tbody>\n",
       "    <tr>\n",
       "      <th>1</th>\n",
       "      <td>5908</td>\n",
       "      <td>2017-06-28 16:55:47.853</td>\n",
       "      <td>2017-11-11 18:17:38.379</td>\n",
       "      <td>completed</td>\n",
       "      <td>3</td>\n",
       "      <td>Design</td>\n",
       "      <td>136</td>\n",
       "    </tr>\n",
       "    <tr>\n",
       "      <th>5</th>\n",
       "      <td>2646</td>\n",
       "      <td>2016-04-12 17:27:07.249</td>\n",
       "      <td>2016-10-31 17:44:05.194</td>\n",
       "      <td>completed</td>\n",
       "      <td>1</td>\n",
       "      <td>Marketing Strategy</td>\n",
       "      <td>202</td>\n",
       "    </tr>\n",
       "    <tr>\n",
       "      <th>10</th>\n",
       "      <td>5688</td>\n",
       "      <td>2017-06-03 13:01:34.481</td>\n",
       "      <td>2017-12-11 22:51:04.735</td>\n",
       "      <td>completed</td>\n",
       "      <td>1</td>\n",
       "      <td>Program Design</td>\n",
       "      <td>191</td>\n",
       "    </tr>\n",
       "    <tr>\n",
       "      <th>11</th>\n",
       "      <td>3588</td>\n",
       "      <td>2016-08-04 17:58:42.821</td>\n",
       "      <td>2017-08-28 15:04:48.039</td>\n",
       "      <td>completed</td>\n",
       "      <td>1</td>\n",
       "      <td>Business Planning</td>\n",
       "      <td>388</td>\n",
       "    </tr>\n",
       "    <tr>\n",
       "      <th>13</th>\n",
       "      <td>210</td>\n",
       "      <td>2014-11-25 00:11:37.809</td>\n",
       "      <td>2015-07-28 14:37:53.311</td>\n",
       "      <td>completed</td>\n",
       "      <td>1</td>\n",
       "      <td>Multimedia</td>\n",
       "      <td>245</td>\n",
       "    </tr>\n",
       "  </tbody>\n",
       "</table>\n",
       "</div>"
      ],
      "text/plain": [
       "    ProjectId              created_at              updated_at      state  \\\n",
       "1        5908 2017-06-28 16:55:47.853 2017-11-11 18:17:38.379  completed   \n",
       "5        2646 2016-04-12 17:27:07.249 2016-10-31 17:44:05.194  completed   \n",
       "10       5688 2017-06-03 13:01:34.481 2017-12-11 22:51:04.735  completed   \n",
       "11       3588 2016-08-04 17:58:42.821 2017-08-28 15:04:48.039  completed   \n",
       "13        210 2014-11-25 00:11:37.809 2015-07-28 14:37:53.311  completed   \n",
       "\n",
       "    project_inquiries_count                name  Difference  \n",
       "1                         3              Design         136  \n",
       "5                         1  Marketing Strategy         202  \n",
       "10                        1      Program Design         191  \n",
       "11                        1   Business Planning         388  \n",
       "13                        1          Multimedia         245  "
      ]
     },
     "execution_count": 9,
     "metadata": {},
     "output_type": "execute_result"
    }
   ],
   "source": [
    "#calculate the difference between start and updat dates in days and name the column 'difference'\n",
    "data['Difference'] = data['updated_at'].sub(data['created_at'], axis=0).dt.days\n",
    "data.head()"
   ]
  },
  {
   "cell_type": "code",
   "execution_count": 11,
   "metadata": {},
   "outputs": [
    {
     "data": {
      "text/plain": [
       "name\n",
       "Design                  151.701613\n",
       "IT Infrastructure       156.800000\n",
       "Accounting & Finance    158.331754\n",
       "Staff Development       167.508772\n",
       "HR Management           167.695946\n",
       "Copy writing/editing    179.625000\n",
       "Evaluation              183.629630\n",
       "CRM                     188.137795\n",
       "Brand Development       201.912791\n",
       "Board Development       203.620000\n",
       "Website development     205.009615\n",
       "Messaging               207.539568\n",
       "Research                208.346535\n",
       "Website design          212.767528\n",
       "Program Design          216.154762\n",
       "Business Planning       219.415550\n",
       "Multimedia              222.951613\n",
       "Marketing Strategy      227.346789\n",
       "Project Management      239.133333\n",
       "Mobile Development      254.344828\n",
       "Public Relations        256.896552\n",
       "Name: Difference, dtype: float64"
      ]
     },
     "execution_count": 11,
     "metadata": {},
     "output_type": "execute_result"
    }
   ],
   "source": [
    "#calculate the average number of dasy taken to finish projects for several project categories\n",
    "data.groupby(\"name\")[\"Difference\"].mean().sort_values()"
   ]
  },
  {
   "cell_type": "code",
   "execution_count": 12,
   "metadata": {},
   "outputs": [
    {
     "data": {
      "text/plain": [
       "array([[<matplotlib.axes._subplots.AxesSubplot object at 0x0000016703E40630>]],\n",
       "      dtype=object)"
      ]
     },
     "execution_count": 12,
     "metadata": {},
     "output_type": "execute_result"
    },
    {
     "data": {
      "image/png": "[encoded data removed]",
      "text/plain": [
       "<Figure size 432x288 with 1 Axes>"
      ]
     },
     "metadata": {
      "needs_background": "light"
     },
     "output_type": "display_data"
    }
   ],
   "source": [
    "#plot the histogram of the days taken to complete design projects\n",
    "data.query('name == \"Design\"').hist(\"Difference\")"
   ]
  },
  {
   "cell_type": "code",
   "execution_count": 13,
   "metadata": {},
   "outputs": [
    {
     "data": {
      "text/plain": [
       "array([[<matplotlib.axes._subplots.AxesSubplot object at 0x00000167064C1EB8>]],\n",
       "      dtype=object)"
      ]
     },
     "execution_count": 13,
     "metadata": {},
     "output_type": "execute_result"
    },
    {
     "data": {
      "image/png": "[encoded data removed]",
      "text/plain": [
       "<Figure size 432x288 with 1 Axes>"
      ]
     },
     "metadata": {
      "needs_background": "light"
     },
     "output_type": "display_data"
    }
   ],
   "source": [
    "#plot the histogram of the days taken to complete public relations projects\n",
    "data.query('name == \"Public Relations\"').hist(\"Difference\")"
   ]
  },
  {
   "cell_type": "code",
   "execution_count": 24,
   "metadata": {},
   "outputs": [
    {
     "data": {
      "text/plain": [
       "array([[<matplotlib.axes._subplots.AxesSubplot object at 0x0000015AA671FE10>]],\n",
       "      dtype=object)"
      ]
     },
     "execution_count": 24,
     "metadata": {},
     "output_type": "execute_result"
    },
    {
     "data": {
      "image/png": "[encoded data removed]",
      "text/plain": [
       "<Figure size 432x288 with 1 Axes>"
      ]
     },
     "metadata": {
      "needs_background": "light"
     },
     "output_type": "display_data"
    }
   ],
   "source": [
    "#plot the histogram of the days taken to complete business planning projects\n",
    "data.query('name == \"Business Planning\"').hist(\"Difference\")"
   ]
  }
 ],
 "metadata": {
  "kernelspec": {
   "display_name": "Python 3",
   "language": "python",
   "name": "python3"
  },
  "language_info": {
   "codemirror_mode": {
    "name": "ipython",
    "version": 3
   },
   "file_extension": ".py",
   "mimetype": "text/x-python",
   "name": "python",
   "nbconvert_exporter": "python",
   "pygments_lexer": "ipython3",
   "version": "3.7.3"
  }
 },
 "nbformat": 4,
 "nbformat_minor": 2
}
